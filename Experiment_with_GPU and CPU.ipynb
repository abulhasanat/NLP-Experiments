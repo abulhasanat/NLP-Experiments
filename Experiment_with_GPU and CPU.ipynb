{
  "nbformat": 4,
  "nbformat_minor": 0,
  "metadata": {
    "colab": {
      "name": "Matrix multiplication with pytorch.ipynb",
      "provenance": [],
      "collapsed_sections": [],
      "include_colab_link": true
    },
    "kernelspec": {
      "name": "python3",
      "display_name": "Python 3"
    },
    "accelerator": "GPU"
  },
  "cells": [
    {
      "cell_type": "markdown",
      "metadata": {
        "id": "view-in-github",
        "colab_type": "text"
      },
      "source": [
        "<a href=\"https://colab.research.google.com/github/abulhasanat/NLP-Experiments/blob/master/Experiment_with_GPU%20and%20CPU.ipynb\" target=\"_parent\"><img src=\"https://colab.research.google.com/assets/colab-badge.svg\" alt=\"Open In Colab\"/></a>"
      ]
    },
    {
      "cell_type": "code",
      "metadata": {
        "id": "-Gjyd7qUjyic",
        "colab_type": "code",
        "colab": {}
      },
      "source": [
        "import numpy as np \n",
        "import torch"
      ],
      "execution_count": 1,
      "outputs": []
    },
    {
      "cell_type": "code",
      "metadata": {
        "id": "WA1s2xyxIpv2",
        "colab_type": "code",
        "colab": {
          "base_uri": "https://localhost:8080/",
          "height": 51
        },
        "outputId": "76e008e5-9f30-4967-8312-0ad32f782712"
      },
      "source": [
        "# If there's a GPU available...\n",
        "if torch.cuda.is_available():    \n",
        "\n",
        "    # Tell PyTorch to use the GPU.    \n",
        "    device = torch.device(\"cuda\")\n",
        "\n",
        "    print('There are %d GPU(s) available.' % torch.cuda.device_count())\n",
        "\n",
        "    print('We will use the GPU:', torch.cuda.get_device_name(0))\n",
        "\n",
        "# If not...\n",
        "else:\n",
        "    print('No GPU available, using the CPU instead.')\n",
        "    device = torch.device(\"cpu\")"
      ],
      "execution_count": 2,
      "outputs": [
        {
          "output_type": "stream",
          "text": [
            "There are 1 GPU(s) available.\n",
            "We will use the GPU: Tesla P100-PCIE-16GB\n"
          ],
          "name": "stdout"
        }
      ]
    },
    {
      "cell_type": "code",
      "metadata": {
        "id": "5qvu3U6OkRGu",
        "colab_type": "code",
        "colab": {
          "base_uri": "https://localhost:8080/",
          "height": 51
        },
        "outputId": "935ce78c-4882-49a7-deca-5979b70fd269"
      },
      "source": [
        "%%time\n",
        "a = np.random.randn(1000,1000)\n",
        "result = np.matmul(a,a)\n",
        "del a, result"
      ],
      "execution_count": 3,
      "outputs": [
        {
          "output_type": "stream",
          "text": [
            "CPU times: user 146 ms, sys: 10.3 ms, total: 156 ms\n",
            "Wall time: 107 ms\n"
          ],
          "name": "stdout"
        }
      ]
    },
    {
      "cell_type": "code",
      "metadata": {
        "id": "AWMJ_h6EklKl",
        "colab_type": "code",
        "colab": {
          "base_uri": "https://localhost:8080/",
          "height": 51
        },
        "outputId": "e9131e02-65d1-47a9-c941-451da1921ad8"
      },
      "source": [
        "%%time\n",
        "z = torch.randn(1000,1000)\n",
        "result = torch.matmul(z,z)\n",
        "del z, result"
      ],
      "execution_count": 4,
      "outputs": [
        {
          "output_type": "stream",
          "text": [
            "CPU times: user 37.8 ms, sys: 223 µs, total: 38 ms\n",
            "Wall time: 89.8 ms\n"
          ],
          "name": "stdout"
        }
      ]
    },
    {
      "cell_type": "code",
      "metadata": {
        "id": "i1KEnA4lkiOk",
        "colab_type": "code",
        "colab": {
          "base_uri": "https://localhost:8080/",
          "height": 51
        },
        "outputId": "504c029c-b24d-4229-d7df-e4817a4895db"
      },
      "source": [
        "%%time\n",
        "b = np.random.randn(10000,10000)\n",
        "result = np.matmul(b,b)\n",
        "del b, result"
      ],
      "execution_count": 5,
      "outputs": [
        {
          "output_type": "stream",
          "text": [
            "CPU times: user 1min 37s, sys: 555 ms, total: 1min 37s\n",
            "Wall time: 51.8 s\n"
          ],
          "name": "stdout"
        }
      ]
    },
    {
      "cell_type": "code",
      "metadata": {
        "id": "g_b7A6w6kmg-",
        "colab_type": "code",
        "colab": {
          "base_uri": "https://localhost:8080/",
          "height": 51
        },
        "outputId": "2e200247-cb5b-40ab-a8b6-e0c1af2d9320"
      },
      "source": [
        "%%time\n",
        "y = torch.randn(10000,10000)\n",
        "result = torch.matmul(y,y)\n",
        "del y, result"
      ],
      "execution_count": 6,
      "outputs": [
        {
          "output_type": "stream",
          "text": [
            "CPU times: user 23.4 s, sys: 349 µs, total: 23.4 s\n",
            "Wall time: 23.4 s\n"
          ],
          "name": "stdout"
        }
      ]
    },
    {
      "cell_type": "code",
      "metadata": {
        "id": "i4kLY8kZkuMh",
        "colab_type": "code",
        "colab": {
          "base_uri": "https://localhost:8080/",
          "height": 51
        },
        "outputId": "a169243c-3894-4fdd-d4d1-2af78af76ce0"
      },
      "source": [
        "%%time\n",
        "x = torch.randn(10000,10000).cuda()\n",
        "result = torch.matmul(x,x)\n",
        "del x, result"
      ],
      "execution_count": 7,
      "outputs": [
        {
          "output_type": "stream",
          "text": [
            "CPU times: user 3.11 s, sys: 422 ms, total: 3.54 s\n",
            "Wall time: 10.2 s\n"
          ],
          "name": "stdout"
        }
      ]
    },
    {
      "cell_type": "code",
      "metadata": {
        "id": "jgY0Xo8dkvtS",
        "colab_type": "code",
        "colab": {
          "base_uri": "https://localhost:8080/",
          "height": 51
        },
        "outputId": "9792c5b8-7c1a-401f-828c-bfd1fa56d4b7"
      },
      "source": [
        "%%time\n",
        "w = torch.randn(10000,10000).cuda()\n",
        "result = torch.matmul(w,w)\n",
        "del w, result\n"
      ],
      "execution_count": 8,
      "outputs": [
        {
          "output_type": "stream",
          "text": [
            "CPU times: user 998 ms, sys: 155 ms, total: 1.15 s\n",
            "Wall time: 1.15 s\n"
          ],
          "name": "stdout"
        }
      ]
    },
    {
      "cell_type": "code",
      "metadata": {
        "id": "OOzxnj_xQMSd",
        "colab_type": "code",
        "colab": {
          "base_uri": "https://localhost:8080/",
          "height": 51
        },
        "outputId": "1fd4babf-38f3-441e-a0d3-9dd633bd3b6d"
      },
      "source": [
        "%%time\n",
        "v = torch.randn(20000,20000).cuda()\n",
        "result = torch.matmul(v,v)\n",
        "del v, result\n"
      ],
      "execution_count": 9,
      "outputs": [
        {
          "output_type": "stream",
          "text": [
            "CPU times: user 3.91 s, sys: 511 ms, total: 4.42 s\n",
            "Wall time: 4.42 s\n"
          ],
          "name": "stdout"
        }
      ]
    },
    {
      "cell_type": "code",
      "metadata": {
        "id": "VbjA6P9xQuaW",
        "colab_type": "code",
        "colab": {
          "base_uri": "https://localhost:8080/",
          "height": 51
        },
        "outputId": "0d9104f8-6967-46e3-8c1a-fd1b45f8205f"
      },
      "source": [
        "%%time\n",
        "v = torch.randn(30000,30000).cuda()\n",
        "result = torch.matmul(v,v)\n",
        "del v, result"
      ],
      "execution_count": 10,
      "outputs": [
        {
          "output_type": "stream",
          "text": [
            "CPU times: user 8.69 s, sys: 806 ms, total: 9.5 s\n",
            "Wall time: 9.5 s\n"
          ],
          "name": "stdout"
        }
      ]
    },
    {
      "cell_type": "code",
      "metadata": {
        "id": "VYE9tAuHRuKe",
        "colab_type": "code",
        "colab": {
          "base_uri": "https://localhost:8080/",
          "height": 51
        },
        "outputId": "68e15a46-8b42-471f-c471-89b9efd66369"
      },
      "source": [
        "%%time\n",
        "v = torch.randn(40000,40000).cuda()\n",
        "result = torch.matmul(v,v)\n",
        "del v, result"
      ],
      "execution_count": 11,
      "outputs": [
        {
          "output_type": "stream",
          "text": [
            "CPU times: user 16 s, sys: 2.46 s, total: 18.5 s\n",
            "Wall time: 18.8 s\n"
          ],
          "name": "stdout"
        }
      ]
    },
    {
      "cell_type": "code",
      "metadata": {
        "id": "QE1zT5XxRyh3",
        "colab_type": "code",
        "colab": {
          "base_uri": "https://localhost:8080/",
          "height": 34
        },
        "outputId": "b81059d0-8c3f-4ebc-9a8f-71b62971c61b"
      },
      "source": [
        "import tensorflow as tf\n",
        "\n",
        "# Get the GPU device name.\n",
        "device_name = tf.test.gpu_device_name()\n",
        "\n",
        "# The device name should look like the following:\n",
        "if device_name == '/device:GPU:0':\n",
        "    print('Found GPU at: {}'.format(device_name))\n",
        "else:\n",
        "    raise SystemError('GPU device not found')"
      ],
      "execution_count": 12,
      "outputs": [
        {
          "output_type": "stream",
          "text": [
            "Found GPU at: /device:GPU:0\n"
          ],
          "name": "stdout"
        }
      ]
    },
    {
      "cell_type": "code",
      "metadata": {
        "id": "1t8dRKdTGMFg",
        "colab_type": "code",
        "colab": {
          "base_uri": "https://localhost:8080/",
          "height": 255
        },
        "outputId": "ef51dc05-cf69-4ed0-e44c-7bf01ce6ba6e"
      },
      "source": [
        "g1 = tf.random.Generator.from_seed(1)\n",
        "print(g1.normal(shape=[200, 30]))"
      ],
      "execution_count": 13,
      "outputs": [
        {
          "output_type": "stream",
          "text": [
            "tf.Tensor(\n",
            "[[ 0.43842274 -0.53439844 -0.07710262 ... -0.08857017  0.69211644\n",
            "   0.84215707]\n",
            " [-0.06378496  0.92800784 -0.6039789  ... -0.5445254   1.5222508\n",
            "   0.59303206]\n",
            " [-0.63509274  0.37035653 -1.0939722  ...  0.85445154  0.1175475\n",
            "   0.03493892]\n",
            " ...\n",
            " [ 0.09231739 -0.35167617 -0.7733934  ...  1.1000215   2.6729069\n",
            "   1.5629487 ]\n",
            " [-0.35880488  1.0019118   0.59992516 ... -0.6157689  -0.1618813\n",
            "   0.8175728 ]\n",
            " [-0.74993825  0.5005443   1.2893976  ...  0.14361963 -0.4893485\n",
            "  -0.53376347]], shape=(200, 30), dtype=float32)\n"
          ],
          "name": "stdout"
        }
      ]
    },
    {
      "cell_type": "code",
      "metadata": {
        "id": "yMlFYFHVBxDx",
        "colab_type": "code",
        "colab": {
          "base_uri": "https://localhost:8080/",
          "height": 51
        },
        "outputId": "498e854b-0599-41c0-9a15-5dd7aa30c018"
      },
      "source": [
        "%%time\n",
        "g1 = tf.random.Generator.from_seed(1)\n",
        "v=g1.normal(shape=[10000, 10000])\n",
        "# v=tf.random(1000,1000)\n",
        "result=tf.matmul(v,v)\n",
        "del v,result"
      ],
      "execution_count": 18,
      "outputs": [
        {
          "output_type": "stream",
          "text": [
            "CPU times: user 2.93 ms, sys: 0 ns, total: 2.93 ms\n",
            "Wall time: 4.53 ms\n"
          ],
          "name": "stdout"
        }
      ]
    },
    {
      "cell_type": "code",
      "metadata": {
        "id": "M45Q-GbhLPzc",
        "colab_type": "code",
        "colab": {
          "base_uri": "https://localhost:8080/",
          "height": 51
        },
        "outputId": "9512eaf0-e9b7-4016-9c31-25e5c52b0fb2"
      },
      "source": [
        "%%time\n",
        "with tf.device('/gpu:0'):\n",
        "  g1 = tf.random.Generator.from_seed(1)\n",
        "  v=g1.normal(shape=[10000, 10000])\n",
        "  # v=tf.random(1000,1000)\n",
        "  result=tf.matmul(v,v)\n",
        "  del v,result"
      ],
      "execution_count": 22,
      "outputs": [
        {
          "output_type": "stream",
          "text": [
            "CPU times: user 3.14 ms, sys: 5 µs, total: 3.15 ms\n",
            "Wall time: 2.93 ms\n"
          ],
          "name": "stdout"
        }
      ]
    },
    {
      "cell_type": "markdown",
      "metadata": {
        "id": "c4ZhKY0gMuFx",
        "colab_type": "text"
      },
      "source": [
        "Based on the above two execution times, we can conclude that Tensorflow uses GPU by default.\n",
        "\n",
        "Lets see the execution time with forcefully allocating the CPU device.\n"
      ]
    },
    {
      "cell_type": "code",
      "metadata": {
        "id": "iDWPLgXcMRfm",
        "colab_type": "code",
        "colab": {
          "base_uri": "https://localhost:8080/",
          "height": 51
        },
        "outputId": "7fb0cd97-3bf2-4c75-b8f3-c279431d7f72"
      },
      "source": [
        "%%time\n",
        "with tf.device('/cpu:0'):\n",
        "  g1 = tf.random.Generator.from_seed(1)\n",
        "  v=g1.normal(shape=[10000, 10000])\n",
        "  # v=tf.random(1000,1000)\n",
        "  result=tf.matmul(v,v)\n",
        "  del v,result"
      ],
      "execution_count": 23,
      "outputs": [
        {
          "output_type": "stream",
          "text": [
            "CPU times: user 54.7 s, sys: 54.5 ms, total: 54.7 s\n",
            "Wall time: 28 s\n"
          ],
          "name": "stdout"
        }
      ]
    },
    {
      "cell_type": "code",
      "metadata": {
        "id": "JX8YrEpbNJUe",
        "colab_type": "code",
        "colab": {}
      },
      "source": [
        ""
      ],
      "execution_count": null,
      "outputs": []
    }
  ]
}