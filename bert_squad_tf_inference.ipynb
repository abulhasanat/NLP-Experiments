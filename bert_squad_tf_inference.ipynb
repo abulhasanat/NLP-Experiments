{
  "nbformat": 4,
  "nbformat_minor": 0,
  "metadata": {
    "accelerator": "GPU",
    "colab": {
      "name": "bert_squad_tf_inference.ipynb",
      "provenance": [],
      "include_colab_link": true
    },
    "kernelspec": {
      "display_name": "Python 3",
      "language": "python",
      "name": "python3"
    },
    "language_info": {
      "codemirror_mode": {
        "name": "ipython",
        "version": 3
      },
      "file_extension": ".py",
      "mimetype": "text/x-python",
      "name": "python",
      "nbconvert_exporter": "python",
      "pygments_lexer": "ipython3",
      "version": "3.7.4"
    }
  },
  "cells": [
    {
      "cell_type": "markdown",
      "metadata": {
        "id": "view-in-github",
        "colab_type": "text"
      },
      "source": [
        "<a href=\"https://colab.research.google.com/github/abulhasanat/NLP-Experiments/blob/master/bert_squad_tf_inference.ipynb\" target=\"_parent\"><img src=\"https://colab.research.google.com/assets/colab-badge.svg\" alt=\"Open In Colab\"/></a>"
      ]
    },
    {
      "cell_type": "code",
      "metadata": {
        "colab_type": "code",
        "id": "jDXroBuNw60P",
        "colab": {}
      },
      "source": [
        "# Copyright 2019 NVIDIA Corporation. All Rights Reserved.\n",
        "#\n",
        "# Licensed under the Apache License, Version 2.0 (the \"License\");\n",
        "# you may not use this file except in compliance with the License.\n",
        "# You may obtain a copy of the License at\n",
        "#\n",
        "#     http://www.apache.org/licenses/LICENSE-2.0\n",
        "#\n",
        "# Unless required by applicable law or agreed to in writing, software\n",
        "# distributed under the License is distributed on an \"AS IS\" BASIS,\n",
        "# WITHOUT WARRANTIES OR CONDITIONS OF ANY KIND, either express or implied.\n",
        "# See the License for the specific language governing permissions and\n",
        "# limitations under the License.\n",
        "# =============================================================================="
      ],
      "execution_count": 1,
      "outputs": []
    },
    {
      "cell_type": "code",
      "metadata": {
        "id": "QVjPCQRiBdiE",
        "colab_type": "code",
        "colab": {}
      },
      "source": [
        "# %tensorflow_version 1.x"
      ],
      "execution_count": 2,
      "outputs": []
    },
    {
      "cell_type": "markdown",
      "metadata": {
        "colab_type": "text",
        "id": "k-XnFINow60d"
      },
      "source": [
        "<img src=\"http://developer.download.nvidia.com/compute/machine-learning/frameworks/nvidia_logo.png\" style=\"width: 90px; float: right;\">\n",
        "\n",
        "# BERT Question Answering Inference with Mixed Precision\n"
      ]
    },
    {
      "cell_type": "markdown",
      "metadata": {
        "colab_type": "text",
        "id": "TfF7V662w60j"
      },
      "source": [
        "## 1. Overview\n",
        "\n",
        "Bidirectional Embedding Representations from Transformers (BERT), is a method of pre-training language representations which obtains state-of-the-art results on a wide array of Natural Language Processing (NLP) tasks. \n",
        "\n",
        "The original paper can be found here: https://arxiv.org/abs/1810.04805.\n",
        "\n",
        "NVIDIA's BERT 19.10 is an optimized version of Google's official implementation, leveraging mixed precision arithmetic and tensor cores on V100 GPUS for faster training times while maintaining target accuracy."
      ]
    },
    {
      "cell_type": "markdown",
      "metadata": {
        "colab_type": "text",
        "id": "Ah3Lv9zyw60l"
      },
      "source": [
        "### 1.a Learning objectives\n",
        "\n",
        "This notebook demonstrates:\n",
        "- Inference on QA task with BERT Large model\n",
        "- The use/download of fine-tuned NVIDIA BERT models\n",
        "- Use of Mixed Precision for Inference"
      ]
    },
    {
      "cell_type": "markdown",
      "metadata": {
        "colab_type": "text",
        "id": "hxNJ8HByw60o"
      },
      "source": [
        "## 2. Requirements\n",
        "\n",
        "Please enable the GPU runtime (Runtime->Change Runtime Type)\n",
        "\n",
        "Download the required files from NVIDIA-Github:"
      ]
    },
    {
      "cell_type": "code",
      "metadata": {
        "colab_type": "code",
        "id": "KV_WnOY4zUa_",
        "colab": {
          "base_uri": "https://localhost:8080/",
          "height": 34
        },
        "outputId": "9ee771f0-01cb-4730-9b9b-5af9c30c5630"
      },
      "source": [
        "!wget -nc -q --show-progress -O ./master.zip \\\n",
        "https://github.com/NVIDIA/DeepLearningExamples/archive/master.zip\n",
        "!unzip -q -n -d . ./master.zip "
      ],
      "execution_count": 3,
      "outputs": [
        {
          "output_type": "stream",
          "text": [
            "./master.zip            [             <=>    ]  35.38M  11.2MB/s    in 3.2s    \n"
          ],
          "name": "stdout"
        }
      ]
    },
    {
      "cell_type": "code",
      "metadata": {
        "colab_type": "code",
        "id": "5D7i7Pao5qoj",
        "colab": {
          "base_uri": "https://localhost:8080/",
          "height": 34
        },
        "outputId": "0ecf99d8-72e2-43e0-9a5d-d5370fcd801b"
      },
      "source": [
        "import os\n",
        "\n",
        "WORKSPACE_DIR='./DeepLearningExamples-master/TensorFlow/LanguageModeling/BERT/'\n",
        "os.chdir(WORKSPACE_DIR)\n",
        "print (os.getcwd())"
      ],
      "execution_count": 4,
      "outputs": [
        {
          "output_type": "stream",
          "text": [
            "/content/DeepLearningExamples-master/TensorFlow/LanguageModeling/BERT\n"
          ],
          "name": "stdout"
        }
      ]
    },
    {
      "cell_type": "code",
      "metadata": {
        "colab_type": "code",
        "id": "p560UwaE6lAf",
        "colab": {
          "base_uri": "https://localhost:8080/",
          "height": 680
        },
        "outputId": "07ffe863-6549-4e42-ec98-43defe307d2b"
      },
      "source": [
        "ls"
      ],
      "execution_count": 5,
      "outputs": [
        {
          "output_type": "stream",
          "text": [
            "\u001b[0m\u001b[01;34mbiobert\u001b[0m/\n",
            "configurations.yml\n",
            "CONTRIBUTING.md\n",
            "\u001b[01;34mdata\u001b[0m/\n",
            "Dockerfile\n",
            "extract_features.py\n",
            "fp16_utils.py\n",
            "fused_layer_norm.py\n",
            "gpu_environment.py\n",
            "__init__.py\n",
            "input.json\n",
            "LICENSE\n",
            "modeling.py\n",
            "modeling_test.py\n",
            "multilingual.md\n",
            "\u001b[01;34mnotebooks\u001b[0m/\n",
            "NOTICE\n",
            "optimization.py\n",
            "optimization_test.py\n",
            "predicting_movie_reviews_with_bert_on_tf_hub.ipynb\n",
            "\u001b[01;34m__pycache__\u001b[0m/\n",
            "README.md\n",
            "requirements.txt\n",
            "\u001b[01;34mresults\u001b[0m/\n",
            "run_classifier.py\n",
            "run_classifier_with_tfhub.py\n",
            "run_ner.py\n",
            "run_pretraining.py\n",
            "run_re.py\n",
            "run_squad.py\n",
            "run.sub\n",
            "sample_text.txt\n",
            "\u001b[01;34mscripts\u001b[0m/\n",
            "tf_metrics.py\n",
            "tokenization.py\n",
            "tokenization_test.py\n",
            "\u001b[01;34mtriton\u001b[0m/\n",
            "\u001b[01;34mtrt\u001b[0m/\n",
            "\u001b[01;34mutils\u001b[0m/\n"
          ],
          "name": "stdout"
        }
      ]
    },
    {
      "cell_type": "markdown",
      "metadata": {
        "colab_type": "text",
        "id": "mjlZbP0dw60r"
      },
      "source": [
        "## 3. BERT Inference: Question Answering\n",
        "\n",
        "We can run inference on a fine-tuned BERT model for tasks like Question Answering.\n",
        "\n",
        "Here we use a BERT model fine-tuned on a [SQuaD 2.0 Dataset](https://rajpurkar.github.io/SQuAD-explorer/) which contains 100,000+ question-answer pairs on 500+ articles combined with over 50,000 new, unanswerable questions."
      ]
    },
    {
      "cell_type": "markdown",
      "metadata": {
        "colab_type": "text",
        "id": "mOc16svBw60t"
      },
      "source": [
        "### 3.a Paragraph and Queries\n",
        "\n",
        "In this example we will ask our BERT model questions related to the following paragraph:\n",
        "\n",
        "**The Apollo Program**\n",
        "_\"The Apollo program, also known as Project Apollo, was the third United States human spaceflight program carried out by the National Aeronautics and Space Administration (NASA), which accomplished landing the first humans on the Moon from 1969 to 1972. First conceived during Dwight D. Eisenhower's administration as a three-man spacecraft to follow the one-man Project Mercury which put the first Americans in space, Apollo was later dedicated to President John F. Kennedy's national goal of landing a man on the Moon and returning him safely to the Earth by the end of the 1960s, which he proposed in a May 25, 1961, address to Congress. Project Mercury was followed by the two-man Project Gemini. The first manned flight of Apollo was in 1968. Apollo ran from 1961 to 1972, and was supported by the two-man Gemini program which ran concurrently with it from 1962 to 1966. Gemini missions developed some of the space travel techniques that were necessary for the success of the Apollo missions. Apollo used Saturn family rockets as launch vehicles. Apollo/Saturn vehicles were also used for an Apollo Applications Program, which consisted of Skylab, a space station that supported three manned missions in 1973-74, and the Apollo-Soyuz Test Project, a joint Earth orbit mission with the Soviet Union in 1975.\"_\n",
        "\n",
        "The questions and relative answers expected are shown below:\n",
        "\n",
        " - **Q1:** \"What project put the first Americans into space?\" \n",
        "  - **A1:** \"Project Mercury\"\n",
        " - **Q2:** \"What program was created to carry out these projects and missions?\"\n",
        "  - **A2:** \"The Apollo program\"\n",
        " - **Q3:** \"What year did the first manned Apollo flight occur?\"\n",
        "  - **A3:** \"1968\"\n",
        " - **Q4:** \"What President is credited with the original notion of putting Americans in space?\"\n",
        "  - **A4:** \"John F. Kennedy\"\n",
        " - **Q5:** \"Who did the U.S. collaborate with on an Earth orbit mission in 1975?\"\n",
        "  - **A5:** \"Soviet Union\"\n",
        " - **Q6:** \"How long did Project Apollo run?\"\n",
        "  - **A6:** \"1961 to 1972\"\n",
        " - **Q7:** \"What program helped develop space travel techniques that Project Apollo used?\"\n",
        "  - **A7:** \"Gemini Mission\"\n",
        " - **Q8:** \"What space station supported three manned missions in 1973-1974?\"\n",
        "  - **A8:** \"Skylab\"\n",
        "  \n",
        "---\n",
        "\n",
        "The paragraph and the questions can be easily customized by changing the code below:\n",
        "\n",
        "---"
      ]
    },
    {
      "cell_type": "code",
      "metadata": {
        "colab_type": "code",
        "id": "srU0TT1Iw60v",
        "colab": {
          "base_uri": "https://localhost:8080/",
          "height": 34
        },
        "outputId": "6a4f9c8b-312a-4cd2-d440-c8b71d3b3160"
      },
      "source": [
        "%%writefile input.json\n",
        "{\"data\": \n",
        " [\n",
        "     {\"title\": \"Project Apollo\",\n",
        "      \"paragraphs\": [\n",
        "          {\"context\":\"The Apollo program, also known as Project Apollo, was the third United States human spaceflight program carried out by the National Aeronautics and Space Administration (NASA), which accomplished landing the first humans on the Moon from 1969 to 1972. First conceived during Dwight D. Eisenhower's administration as a three-man spacecraft to follow the one-man Project Mercury which put the first Americans in space, Apollo was later dedicated to President John F. Kennedy's national goal of landing a man on the Moon and returning him safely to the Earth by the end of the 1960s, which he proposed in a May 25, 1961, address to Congress. Project Mercury was followed by the two-man Project Gemini. The first manned flight of Apollo was in 1968. Apollo ran from 1961 to 1972, and was supported by the two man Gemini program which ran concurrently with it from 1962 to 1966. Gemini missions developed some of the space travel techniques that were necessary for the success of the Apollo missions. Apollo used Saturn family rockets as launch vehicles. Apollo/Saturn vehicles were also used for an Apollo Applications Program, which consisted of Skylab, a space station that supported three manned missions in 1973-74, and the Apollo-Soyuz Test Project, a joint Earth orbit mission with the Soviet Union in 1975.\", \n",
        "           \"qas\": [\n",
        "               { \"question\": \"What project put the first Americans into space?\", \n",
        "                 \"id\": \"Q1\"\n",
        "               },\n",
        "               { \"question\": \"What program was created to carry out these projects and missions?\",\n",
        "                 \"id\": \"Q2\"\n",
        "               },\n",
        "               { \"question\": \"What year did the first manned Apollo flight occur?\",\n",
        "                 \"id\": \"Q3\"\n",
        "               },                \n",
        "               { \"question\": \"What President is credited with the original notion of putting Americans in space?\",\n",
        "                 \"id\": \"Q4\"\n",
        "               },\n",
        "               { \"question\": \"Who did the U.S. collaborate with on an Earth orbit mission in 1975?\",\n",
        "                 \"id\": \"Q5\"\n",
        "               },\n",
        "               { \"question\": \"How long did Project Apollo run?\",\n",
        "                 \"id\": \"Q6\"\n",
        "               },               \n",
        "               { \"question\": \"What program helped develop space travel techniques that Project Apollo used?\",\n",
        "                 \"id\": \"Q7\"\n",
        "               },                \n",
        "               {\"question\": \"What space station supported three manned missions in 1973-1974?\",\n",
        "                 \"id\": \"Q8\"\n",
        "               }                \n",
        "]}]}]}"
      ],
      "execution_count": 6,
      "outputs": [
        {
          "output_type": "stream",
          "text": [
            "Overwriting input.json\n"
          ],
          "name": "stdout"
        }
      ]
    },
    {
      "cell_type": "code",
      "metadata": {
        "colab_type": "code",
        "id": "ujyka-8Iw603",
        "colab": {}
      },
      "source": [
        "import sys\n",
        "\n",
        "working_dir = os.getcwd();\n",
        "data_dir = os.path.join(working_dir, 'data/download');\n",
        "if working_dir not in sys.path:\n",
        "    sys.path.append(working_dir)"
      ],
      "execution_count": 7,
      "outputs": []
    },
    {
      "cell_type": "code",
      "metadata": {
        "colab_type": "code",
        "id": "6gA3-6LVw61D",
        "colab": {}
      },
      "source": [
        "input_file = os.path.join(working_dir, 'input.json')"
      ],
      "execution_count": 8,
      "outputs": []
    },
    {
      "cell_type": "markdown",
      "metadata": {
        "colab_type": "text",
        "id": "D9p8XaBnw61N"
      },
      "source": [
        "### 3.b Mixed Precision\n",
        "\n",
        "Mixed precision training offers significant computational speedup by performing operations in half-precision format, while storing minimal information in single-precision to retain as much information as possible in critical parts of the network. Since the introduction of tensor cores in the Volta and Turing architectures, significant training speedups are experienced by switching to mixed precision -- up to 3x overall speedup on the most arithmetically intense model architectures.\n",
        "\n",
        "For information about:\n",
        "- How to train using mixed precision, see the [Mixed Precision Training](https://arxiv.org/abs/1710.03740) paper and [Training With Mixed Precision](https://docs.nvidia.com/deeplearning/sdk/mixed-precision-training/index.html) documentation.\n",
        "- How to access and enable AMP for TensorFlow, see [Using TF-AMP](https://docs.nvidia.com/deeplearning/dgx/tensorflow-user-guide/index.html#tfamp) from the TensorFlow User Guide.\n",
        "- Techniques used for mixed precision training, see the [Mixed-Precision Training of Deep Neural Networks](https://devblogs.nvidia.com/mixed-precision-training-deep-neural-networks/) blog."
      ]
    },
    {
      "cell_type": "markdown",
      "metadata": {
        "colab_type": "text",
        "id": "ceeYPqQcw61P"
      },
      "source": [
        "In this notebook we control mixed precision execution with the environmental variable:"
      ]
    },
    {
      "cell_type": "code",
      "metadata": {
        "colab_type": "code",
        "id": "k4jIJevFw61R",
        "colab": {}
      },
      "source": [
        "import os\n",
        "os.environ[\"TF_ENABLE_AUTO_MIXED_PRECISION\"] = \"1\" "
      ],
      "execution_count": 9,
      "outputs": []
    },
    {
      "cell_type": "markdown",
      "metadata": {
        "colab_type": "text",
        "id": "rt_4-ZA5w61Y"
      },
      "source": [
        "We can choose the mixed precision model (which takes much less time to train than the fp32 version) without losing accuracy, with the following flag: "
      ]
    },
    {
      "cell_type": "code",
      "metadata": {
        "colab_type": "code",
        "id": "BRdclfEaw61Z",
        "colab": {}
      },
      "source": [
        "use_mixed_precision_model = True"
      ],
      "execution_count": 10,
      "outputs": []
    },
    {
      "cell_type": "markdown",
      "metadata": {
        "colab_type": "text",
        "id": "tUQ1jWFHw61h"
      },
      "source": [
        "To effectively evaluate the speedup of mixed precision try a bigger workload by uncommenting the following line:"
      ]
    },
    {
      "cell_type": "code",
      "metadata": {
        "colab_type": "code",
        "id": "VpkeBiyPw61j",
        "colab": {}
      },
      "source": [
        "# input_file = os.path.join(working_dir, 'data/download/squad/v2.0/dev-v2.0.json')"
      ],
      "execution_count": 11,
      "outputs": []
    },
    {
      "cell_type": "markdown",
      "metadata": {
        "colab_type": "text",
        "id": "iu4Jb5puw61p"
      },
      "source": [
        "## 4. Fine-Tuned NVIDIA BERT TF Models\n",
        "\n",
        "Based on the model size, we have the following two default configurations of BERT.\n",
        "\n",
        "| **Model** | **Hidden layers** | **Hidden unit size** | **Attention heads** | **Feedforward filter size** | **Max sequence length** | **Parameters** |\n",
        "|:---------:|:----------:|:----:|:---:|:--------:|:---:|:----:|\n",
        "|BERTBASE |12 encoder| 768| 12|4 x  768|512|110M|\n",
        "|BERTLARGE|24 encoder|1024| 16|4 x 1024|512|330M|\n",
        "\n",
        "We will take advantage of the fine-tuned models available on NGC (NVIDIA GPU Cluster, https://ngc.nvidia.com).\n",
        "Among the many configurations available we will download these two:\n",
        "\n",
        " - **bert_tf_v2_large_fp32_384**\n",
        "\n",
        " - **bert_tf_v2_large_fp16_384**\n",
        "\n",
        "Which are trained on the SQuaD 2.0 Dataset."
      ]
    },
    {
      "cell_type": "code",
      "metadata": {
        "colab_type": "code",
        "id": "5JWKZfP8w61t",
        "colab": {
          "base_uri": "https://localhost:8080/",
          "height": 71
        },
        "outputId": "68e89f6a-d310-4a2f-9a5d-5346d5047c9c"
      },
      "source": [
        "# bert_tf_v2_large_fp32_384\n",
        "DATA_DIR_FP32 = os.path.join(data_dir, 'finetuned_model_fp32')\n",
        "!mkdir -p $DATA_DIR_FP32\n",
        "!wget -nc -q --show-progress -O $DATA_DIR_FP32/bert_tf_v2_large_fp32_384.zip \\\n",
        "https://api.ngc.nvidia.com/v2/models/nvidia/bert_tf_v2_large_fp32_384/versions/1/zip\n",
        "!unzip -n -d $DATA_DIR_FP32/ $DATA_DIR_FP32/bert_tf_v2_large_fp32_384.zip \n",
        "    \n",
        "# bert_tf_v2_large_fp16_384\n",
        "DATA_DIR_FP16  = os.path.join(data_dir, 'finetuned_model_fp16')\n",
        "!mkdir -p $DATA_DIR_FP16\n",
        "!wget -nc -q --show-progress -O $DATA_DIR_FP16/bert_tf_v2_large_fp16_384.zip \\\n",
        "https://api.ngc.nvidia.com/v2/models/nvidia/bert_tf_v2_large_fp16_384/versions/1/zip\n",
        "!unzip -n -d $DATA_DIR_FP16/ $DATA_DIR_FP16/bert_tf_v2_large_fp16_384.zip "
      ],
      "execution_count": 12,
      "outputs": [
        {
          "output_type": "stream",
          "text": [
            "Archive:  /content/DeepLearningExamples-master/TensorFlow/LanguageModeling/BERT/data/download/finetuned_model_fp32/bert_tf_v2_large_fp32_384.zip\n",
            "Archive:  /content/DeepLearningExamples-master/TensorFlow/LanguageModeling/BERT/data/download/finetuned_model_fp16/bert_tf_v2_large_fp16_384.zip\n"
          ],
          "name": "stdout"
        }
      ]
    },
    {
      "cell_type": "markdown",
      "metadata": {
        "colab_type": "text",
        "id": "GrFrZickw61z"
      },
      "source": [
        "In the code that follows we will refer to these models."
      ]
    },
    {
      "cell_type": "markdown",
      "metadata": {
        "colab_type": "text",
        "id": "cU8mGJDa1FfX"
      },
      "source": [
        "Download the Google pretrained weights and vocab file:"
      ]
    },
    {
      "cell_type": "code",
      "metadata": {
        "colab_type": "code",
        "id": "5hRb96NKE3X0",
        "colab": {
          "base_uri": "https://localhost:8080/",
          "height": 887
        },
        "outputId": "762b269a-9c64-44c9-eeaa-d1aac59cea14"
      },
      "source": [
        "os.chdir(\"./data\");\n",
        "from GooglePretrainedWeightDownloader import GooglePretrainedWeightDownloader\n",
        "gd = GooglePretrainedWeightDownloader(data_dir)\n",
        "gd.download()\n",
        "os.chdir(\"..\");"
      ],
      "execution_count": 13,
      "outputs": [
        {
          "output_type": "stream",
          "text": [
            "Downloading https://storage.googleapis.com/bert_models/2018_10_18/uncased_L-12_H-768_A-12.zip\n",
            "Unzipping /content/DeepLearningExamples-master/TensorFlow/LanguageModeling/BERT/data/download/google_pretrained_weights/uncased_L-12_H-768_A-12.zip\n",
            "/content/DeepLearningExamples-master/TensorFlow/LanguageModeling/BERT/data/download/google_pretrained_weights/uncased_L-12_H-768_A-12/bert_config.json \t verified\n",
            "/content/DeepLearningExamples-master/TensorFlow/LanguageModeling/BERT/data/download/google_pretrained_weights/uncased_L-12_H-768_A-12/bert_model.ckpt.data-00000-of-00001 \t verified\n",
            "/content/DeepLearningExamples-master/TensorFlow/LanguageModeling/BERT/data/download/google_pretrained_weights/uncased_L-12_H-768_A-12/bert_model.ckpt.index \t verified\n",
            "/content/DeepLearningExamples-master/TensorFlow/LanguageModeling/BERT/data/download/google_pretrained_weights/uncased_L-12_H-768_A-12/bert_model.ckpt.meta \t verified\n",
            "/content/DeepLearningExamples-master/TensorFlow/LanguageModeling/BERT/data/download/google_pretrained_weights/uncased_L-12_H-768_A-12/vocab.txt \t verified\n",
            "Downloading https://storage.googleapis.com/bert_models/2018_10_18/uncased_L-24_H-1024_A-16.zip\n",
            "Unzipping /content/DeepLearningExamples-master/TensorFlow/LanguageModeling/BERT/data/download/google_pretrained_weights/uncased_L-24_H-1024_A-16.zip\n",
            "/content/DeepLearningExamples-master/TensorFlow/LanguageModeling/BERT/data/download/google_pretrained_weights/uncased_L-24_H-1024_A-16/bert_config.json \t verified\n",
            "/content/DeepLearningExamples-master/TensorFlow/LanguageModeling/BERT/data/download/google_pretrained_weights/uncased_L-24_H-1024_A-16/bert_model.ckpt.data-00000-of-00001 \t verified\n",
            "/content/DeepLearningExamples-master/TensorFlow/LanguageModeling/BERT/data/download/google_pretrained_weights/uncased_L-24_H-1024_A-16/bert_model.ckpt.index \t verified\n",
            "/content/DeepLearningExamples-master/TensorFlow/LanguageModeling/BERT/data/download/google_pretrained_weights/uncased_L-24_H-1024_A-16/bert_model.ckpt.meta \t verified\n",
            "/content/DeepLearningExamples-master/TensorFlow/LanguageModeling/BERT/data/download/google_pretrained_weights/uncased_L-24_H-1024_A-16/vocab.txt \t verified\n",
            "Downloading https://storage.googleapis.com/bert_models/2018_10_18/cased_L-12_H-768_A-12.zip\n",
            "Unzipping /content/DeepLearningExamples-master/TensorFlow/LanguageModeling/BERT/data/download/google_pretrained_weights/cased_L-12_H-768_A-12.zip\n",
            "/content/DeepLearningExamples-master/TensorFlow/LanguageModeling/BERT/data/download/google_pretrained_weights/cased_L-12_H-768_A-12/bert_config.json \t verified\n",
            "/content/DeepLearningExamples-master/TensorFlow/LanguageModeling/BERT/data/download/google_pretrained_weights/cased_L-12_H-768_A-12/bert_model.ckpt.data-00000-of-00001 \t verified\n",
            "/content/DeepLearningExamples-master/TensorFlow/LanguageModeling/BERT/data/download/google_pretrained_weights/cased_L-12_H-768_A-12/bert_model.ckpt.index \t verified\n",
            "/content/DeepLearningExamples-master/TensorFlow/LanguageModeling/BERT/data/download/google_pretrained_weights/cased_L-12_H-768_A-12/bert_model.ckpt.meta \t verified\n",
            "/content/DeepLearningExamples-master/TensorFlow/LanguageModeling/BERT/data/download/google_pretrained_weights/cased_L-12_H-768_A-12/vocab.txt \t verified\n",
            "Downloading https://storage.googleapis.com/bert_models/2018_10_18/cased_L-24_H-1024_A-16.zip\n",
            "Unzipping /content/DeepLearningExamples-master/TensorFlow/LanguageModeling/BERT/data/download/google_pretrained_weights/cased_L-24_H-1024_A-16.zip\n",
            "/content/DeepLearningExamples-master/TensorFlow/LanguageModeling/BERT/data/download/google_pretrained_weights/cased_L-24_H-1024_A-16/bert_config.json \t verified\n",
            "/content/DeepLearningExamples-master/TensorFlow/LanguageModeling/BERT/data/download/google_pretrained_weights/cased_L-24_H-1024_A-16/bert_model.ckpt.data-00000-of-00001 \t verified\n",
            "/content/DeepLearningExamples-master/TensorFlow/LanguageModeling/BERT/data/download/google_pretrained_weights/cased_L-24_H-1024_A-16/bert_model.ckpt.index \t verified\n",
            "/content/DeepLearningExamples-master/TensorFlow/LanguageModeling/BERT/data/download/google_pretrained_weights/cased_L-24_H-1024_A-16/bert_model.ckpt.meta \t verified\n",
            "/content/DeepLearningExamples-master/TensorFlow/LanguageModeling/BERT/data/download/google_pretrained_weights/cased_L-24_H-1024_A-16/vocab.txt \t verified\n",
            "Downloading https://storage.googleapis.com/bert_models/2018_11_23/multi_cased_L-12_H-768_A-12.zip\n",
            "Unzipping /content/DeepLearningExamples-master/TensorFlow/LanguageModeling/BERT/data/download/google_pretrained_weights/multi_cased_L-12_H-768_A-12.zip\n",
            "/content/DeepLearningExamples-master/TensorFlow/LanguageModeling/BERT/data/download/google_pretrained_weights/multi_cased_L-12_H-768_A-12/bert_config.json \t verified\n",
            "/content/DeepLearningExamples-master/TensorFlow/LanguageModeling/BERT/data/download/google_pretrained_weights/multi_cased_L-12_H-768_A-12/bert_model.ckpt.data-00000-of-00001 \t verified\n",
            "/content/DeepLearningExamples-master/TensorFlow/LanguageModeling/BERT/data/download/google_pretrained_weights/multi_cased_L-12_H-768_A-12/bert_model.ckpt.index \t verified\n",
            "/content/DeepLearningExamples-master/TensorFlow/LanguageModeling/BERT/data/download/google_pretrained_weights/multi_cased_L-12_H-768_A-12/bert_model.ckpt.meta \t verified\n",
            "/content/DeepLearningExamples-master/TensorFlow/LanguageModeling/BERT/data/download/google_pretrained_weights/multi_cased_L-12_H-768_A-12/vocab.txt \t verified\n",
            "Downloading https://storage.googleapis.com/bert_models/2018_11_03/multilingual_L-12_H-768_A-12.zip\n",
            "Unzipping /content/DeepLearningExamples-master/TensorFlow/LanguageModeling/BERT/data/download/google_pretrained_weights/multilingual_L-12_H-768_A-12.zip\n",
            "/content/DeepLearningExamples-master/TensorFlow/LanguageModeling/BERT/data/download/google_pretrained_weights/multilingual_L-12_H-768_A-12/bert_config.json \t verified\n",
            "/content/DeepLearningExamples-master/TensorFlow/LanguageModeling/BERT/data/download/google_pretrained_weights/multilingual_L-12_H-768_A-12/bert_model.ckpt.data-00000-of-00001 \t verified\n",
            "/content/DeepLearningExamples-master/TensorFlow/LanguageModeling/BERT/data/download/google_pretrained_weights/multilingual_L-12_H-768_A-12/bert_model.ckpt.index \t verified\n",
            "/content/DeepLearningExamples-master/TensorFlow/LanguageModeling/BERT/data/download/google_pretrained_weights/multilingual_L-12_H-768_A-12/bert_model.ckpt.meta \t verified\n",
            "/content/DeepLearningExamples-master/TensorFlow/LanguageModeling/BERT/data/download/google_pretrained_weights/multilingual_L-12_H-768_A-12/vocab.txt \t verified\n",
            "Downloading https://storage.googleapis.com/bert_models/2018_11_03/chinese_L-12_H-768_A-12.zip\n",
            "Unzipping /content/DeepLearningExamples-master/TensorFlow/LanguageModeling/BERT/data/download/google_pretrained_weights/chinese_L-12_H-768_A-12.zip\n",
            "/content/DeepLearningExamples-master/TensorFlow/LanguageModeling/BERT/data/download/google_pretrained_weights/chinese_L-12_H-768_A-12/bert_config.json \t verified\n",
            "/content/DeepLearningExamples-master/TensorFlow/LanguageModeling/BERT/data/download/google_pretrained_weights/chinese_L-12_H-768_A-12/bert_model.ckpt.data-00000-of-00001 \t verified\n",
            "/content/DeepLearningExamples-master/TensorFlow/LanguageModeling/BERT/data/download/google_pretrained_weights/chinese_L-12_H-768_A-12/bert_model.ckpt.index \t verified\n",
            "/content/DeepLearningExamples-master/TensorFlow/LanguageModeling/BERT/data/download/google_pretrained_weights/chinese_L-12_H-768_A-12/bert_model.ckpt.meta \t verified\n",
            "/content/DeepLearningExamples-master/TensorFlow/LanguageModeling/BERT/data/download/google_pretrained_weights/chinese_L-12_H-768_A-12/vocab.txt \t verified\n",
            "All downloads pass sha256sum verification.\n"
          ],
          "name": "stdout"
        }
      ]
    },
    {
      "cell_type": "markdown",
      "metadata": {
        "colab_type": "text",
        "id": "VY1Dipam15DE"
      },
      "source": [
        "We need the horovod package:"
      ]
    },
    {
      "cell_type": "code",
      "metadata": {
        "colab_type": "code",
        "id": "jqAJob92C2wA",
        "colab": {}
      },
      "source": [
        "try:\n",
        "    __import__(\"horovod\")\n",
        "except ImportError:\n",
        "    os.system(\"pip install horovod\")"
      ],
      "execution_count": 14,
      "outputs": []
    },
    {
      "cell_type": "markdown",
      "metadata": {
        "colab_type": "text",
        "id": "5NuuGNsDw611"
      },
      "source": [
        "## 5. Running QA task inference\n",
        "\n",
        "In order to run QA inference we will follow step-by-step the flow implemented in run_squad.py.\n",
        "\n",
        "Configuration:"
      ]
    },
    {
      "cell_type": "code",
      "metadata": {
        "id": "OhhdmZNjIMkD",
        "colab_type": "code",
        "colab": {
          "base_uri": "https://localhost:8080/",
          "height": 190
        },
        "outputId": "5b9f3383-ef26-4ef1-bda5-28fb130d7410"
      },
      "source": [
        "!pip install 'git+https://github.com/NVIDIA/dllogger'"
      ],
      "execution_count": 15,
      "outputs": [
        {
          "output_type": "stream",
          "text": [
            "Collecting git+https://github.com/NVIDIA/dllogger\n",
            "  Cloning https://github.com/NVIDIA/dllogger to /tmp/pip-req-build-fq_j6h8t\n",
            "  Running command git clone -q https://github.com/NVIDIA/dllogger /tmp/pip-req-build-fq_j6h8t\n",
            "Requirement already satisfied (use --upgrade to upgrade): DLLogger==0.1.0 from git+https://github.com/NVIDIA/dllogger in /usr/local/lib/python3.6/dist-packages\n",
            "Building wheels for collected packages: DLLogger\n",
            "  Building wheel for DLLogger (setup.py) ... \u001b[?25l\u001b[?25hdone\n",
            "  Created wheel for DLLogger: filename=DLLogger-0.1.0-cp36-none-any.whl size=5617 sha256=092d5ddc118bb572eff24133c0839eeb59ab0ebbdaca9c1aa210fef9b7ca78ae\n",
            "  Stored in directory: /tmp/pip-ephem-wheel-cache-zvxlreug/wheels/55/59/d4/033a0693b76ef3709af9c2d93ffc20f6e7cf5c690db7a0119a\n",
            "Successfully built DLLogger\n"
          ],
          "name": "stdout"
        }
      ]
    },
    {
      "cell_type": "code",
      "metadata": {
        "colab_type": "code",
        "id": "_c2qCQ9-w613",
        "colab": {}
      },
      "source": [
        "import run_squad\n",
        "import json\n",
        "import tensorflow as tf\n",
        "import modeling\n",
        "import tokenization\n",
        "import time\n",
        "import random\n",
        "\n",
        "tf.compat.v1.logging.set_verbosity(tf.compat.v1.logging.INFO)\n",
        "\n",
        "# Create the output directory where all the results are saved.\n",
        "output_dir = os.path.join(working_dir, 'results')\n",
        "tf.compat.v1.gfile.MakeDirs(output_dir)\n",
        "\n",
        "# The config json file corresponding to the pre-trained BERT model.\n",
        "# This specifies the model architecture.\n",
        "bert_config_file = os.path.join(data_dir, 'google_pretrained_weights/uncased_L-24_H-1024_A-16/bert_config.json')\n",
        "\n",
        "# The vocabulary file that the BERT model was trained on.\n",
        "vocab_file = os.path.join(data_dir, 'google_pretrained_weights/uncased_L-24_H-1024_A-16/vocab.txt')\n",
        "\n",
        "# Depending on the mixed precision flag we use different fine-tuned model\n",
        "if use_mixed_precision_model:\n",
        "    init_checkpoint = os.path.join(data_dir, 'finetuned_model_fp16/model.ckpt-8144')\n",
        "else:\n",
        "    init_checkpoint = os.path.join(data_dir, 'finetuned_model_fp32/model.ckpt-8144')\n",
        "\n",
        "# Whether to lower case the input text. \n",
        "# Should be True for uncased models and False for cased models.\n",
        "do_lower_case = True\n",
        "  \n",
        "# Total batch size for predictions\n",
        "predict_batch_size = 1\n",
        "params = dict([('batch_size', predict_batch_size)])\n",
        "\n",
        "# The maximum total input sequence length after WordPiece tokenization. \n",
        "# Sequences longer than this will be truncated, and sequences shorter than this will be padded.\n",
        "max_seq_length = 384\n",
        "\n",
        "# When splitting up a long document into chunks, how much stride to take between chunks.\n",
        "doc_stride = 128\n",
        "\n",
        "# The maximum number of tokens for the question. \n",
        "# Questions longer than this will be truncated to this length.\n",
        "max_query_length = 64\n",
        "\n",
        "# This is a WA to use flags from here:\n",
        "flags = tf.compat.v1.flags\n",
        "\n",
        "if 'f' not in tf.compat.v1.flags.FLAGS: \n",
        "    tf.compat.v1.app.flags.DEFINE_string('f', '', 'kernel')\n",
        "FLAGS = flags.FLAGS\n",
        "\n",
        "# The total number of n-best predictions to generate in the nbest_predictions.json output file.\n",
        "n_best_size = 20\n",
        "\n",
        "# The maximum length of an answer that can be generated. \n",
        "# This is needed  because the start and end predictions are not conditioned on one another.\n",
        "max_answer_length = 30"
      ],
      "execution_count": 16,
      "outputs": []
    },
    {
      "cell_type": "markdown",
      "metadata": {
        "colab_type": "text",
        "id": "2h_eLUgPw618"
      },
      "source": [
        "Let's define the tokenizer and create the model for the estimator:"
      ]
    },
    {
      "cell_type": "code",
      "metadata": {
        "colab_type": "code",
        "id": "RXHdoUb9w619",
        "colab": {
          "base_uri": "https://localhost:8080/",
          "height": 88
        },
        "outputId": "bf5b2d4a-efcb-4144-f678-7b7e26f13ff4"
      },
      "source": [
        "# Validate the casing config consistency with the checkpoint name.\n",
        "tokenization.validate_case_matches_checkpoint(do_lower_case, init_checkpoint)\n",
        "\n",
        "# Create the tokenizer.\n",
        "tokenizer = tokenization.FullTokenizer(vocab_file=vocab_file, do_lower_case=do_lower_case)\n",
        "\n",
        "# Load the configuration from file\n",
        "bert_config = modeling.BertConfig.from_json_file(bert_config_file)\n",
        "\n",
        "def model_fn(features, labels, mode, params):  # pylint: disable=unused-argument\n",
        "    unique_ids = features[\"unique_ids\"]\n",
        "    input_ids = features[\"input_ids\"]\n",
        "    input_mask = features[\"input_mask\"]\n",
        "    segment_ids = features[\"segment_ids\"]\n",
        "\n",
        "    (start_logits, end_logits) = run_squad.create_model(\n",
        "        bert_config=bert_config,\n",
        "        is_training=False,\n",
        "        input_ids=input_ids,\n",
        "        input_mask=input_mask,\n",
        "        segment_ids=segment_ids,\n",
        "        use_one_hot_embeddings=False)\n",
        "\n",
        "    tvars = tf.trainable_variables()\n",
        "\n",
        "    initialized_variable_names = {}\n",
        "    (assignment_map, initialized_variable_names) = modeling.get_assignment_map_from_checkpoint(tvars, init_checkpoint)\n",
        "    tf.train.init_from_checkpoint(init_checkpoint, assignment_map)\n",
        "    output_spec = None\n",
        "    predictions = {\"unique_ids\": unique_ids,\n",
        "                   \"start_logits\": start_logits,\n",
        "                   \"end_logits\": end_logits}\n",
        "    output_spec = tf.estimator.EstimatorSpec(mode=mode, predictions=predictions)\n",
        "    return output_spec\n",
        "\n",
        "config = tf.compat.v1.ConfigProto(log_device_placement=True) \n",
        "\n",
        "run_config = tf.estimator.RunConfig(\n",
        "      model_dir=None,\n",
        "      session_config=config,\n",
        "      save_checkpoints_steps=1000,\n",
        "      keep_checkpoint_max=1)\n",
        "\n",
        "estimator = tf.estimator.Estimator(\n",
        "  model_fn=model_fn,\n",
        "  config=run_config,\n",
        "  params=params)"
      ],
      "execution_count": 17,
      "outputs": [
        {
          "output_type": "stream",
          "text": [
            "WARNING:tensorflow:Using temporary folder as model directory: /tmp/tmpzvb6cgrt\n",
            "INFO:tensorflow:Using config: {'_model_dir': '/tmp/tmpzvb6cgrt', '_tf_random_seed': None, '_save_summary_steps': 100, '_save_checkpoints_steps': 1000, '_save_checkpoints_secs': None, '_session_config': log_device_placement: true\n",
            ", '_keep_checkpoint_max': 1, '_keep_checkpoint_every_n_hours': 10000, '_log_step_count_steps': 100, '_train_distribute': None, '_device_fn': None, '_protocol': None, '_eval_distribute': None, '_experimental_distribute': None, '_experimental_max_worker_delay_secs': None, '_session_creation_timeout_secs': 7200, '_service': None, '_cluster_spec': ClusterSpec({}), '_task_type': 'worker', '_task_id': 0, '_global_id_in_cluster': 0, '_master': '', '_evaluation_master': '', '_is_chief': True, '_num_ps_replicas': 0, '_num_worker_replicas': 1}\n"
          ],
          "name": "stdout"
        }
      ]
    },
    {
      "cell_type": "markdown",
      "metadata": {
        "colab_type": "text",
        "id": "xSKkf4JLw62E"
      },
      "source": [
        "### 5.a Inference"
      ]
    },
    {
      "cell_type": "code",
      "metadata": {
        "colab_type": "code",
        "id": "3OKhc349w62F",
        "scrolled": true,
        "colab": {
          "base_uri": "https://localhost:8080/",
          "height": 513
        },
        "outputId": "c44e150a-977b-4670-8fc6-ab7f962c8510"
      },
      "source": [
        "eval_examples = run_squad.read_squad_examples(\n",
        "        input_file=input_file, is_training=False)\n",
        "\n",
        "eval_writer = run_squad.FeatureWriter(\n",
        "    filename=os.path.join(output_dir, \"eval.tf_record\"),\n",
        "    is_training=False)\n",
        "\n",
        "eval_features = []\n",
        "def append_feature(feature):\n",
        "    eval_features.append(feature)\n",
        "    eval_writer.process_feature(feature)\n",
        "\n",
        "\n",
        "# Loads a data file into a list of InputBatch's\n",
        "run_squad.convert_examples_to_features(\n",
        "    examples=eval_examples,\n",
        "    tokenizer=tokenizer,\n",
        "    max_seq_length=max_seq_length,\n",
        "    doc_stride=doc_stride,\n",
        "    max_query_length=max_query_length,\n",
        "    is_training=False,\n",
        "    output_fn=append_feature)\n",
        "\n",
        "eval_writer.close()\n",
        "\n",
        "tf.compat.v1.logging.info(\"***** Running predictions *****\")\n",
        "tf.compat.v1.logging.info(\"  Num orig examples = %d\", len(eval_examples))\n",
        "tf.compat.v1.logging.info(\"  Num split examples = %d\", len(eval_features))\n",
        "tf.compat.v1.logging.info(\"  Batch size = %d\", predict_batch_size)\n",
        "\n",
        "predict_input_fn = run_squad.input_fn_builder(\n",
        "    input_file=eval_writer.filename,\n",
        "    batch_size=predict_batch_size,\n",
        "    seq_length=max_seq_length,\n",
        "    is_training=False,\n",
        "    drop_remainder=False)\n",
        "\n",
        "all_results = []\n",
        "eval_hooks = [run_squad.LogEvalRunHook(predict_batch_size)]\n",
        "eval_start_time = time.time()\n",
        "for result in estimator.predict(\n",
        "        predict_input_fn, yield_single_examples=True, hooks=eval_hooks, checkpoint_path=init_checkpoint):\n",
        "    unique_id = int(result[\"unique_ids\"])\n",
        "    start_logits = [float(x) for x in result[\"start_logits\"].flat]\n",
        "    end_logits = [float(x) for x in result[\"end_logits\"].flat]\n",
        "    all_results.append(\n",
        "      run_squad.RawResult(\n",
        "          unique_id=unique_id,\n",
        "          start_logits=start_logits,\n",
        "          end_logits=end_logits))\n",
        "\n",
        "eval_time_elapsed = time.time() - eval_start_time\n",
        "\n",
        "eval_time_wo_startup = eval_hooks[-1].total_time\n",
        "num_sentences = eval_hooks[-1].count * predict_batch_size\n",
        "avg_sentences_per_second = num_sentences * 1.0 / eval_time_wo_startup\n",
        "\n",
        "tf.compat.v1.logging.info(\"-----------------------------\")\n",
        "tf.compat.v1.logging.info(\"Total Inference Time = %0.2f Inference Time W/O start up overhead = %0.2f \"\n",
        "                \"Sentences processed = %d\", eval_time_elapsed, eval_time_wo_startup,\n",
        "                num_sentences)\n",
        "tf.compat.v1.logging.info(\"Inference Performance = %0.4f sentences/sec\", avg_sentences_per_second)\n",
        "tf.compat.v1.logging.info(\"-----------------------------\")\n",
        "\n",
        "output_prediction_file = os.path.join(output_dir, \"predictions.json\")\n",
        "output_nbest_file = os.path.join(output_dir, \"nbest_predictions.json\")\n",
        "output_null_log_odds_file = os.path.join(output_dir, \"null_odds.json\")\n",
        "\n",
        "run_squad.write_predictions(eval_examples, eval_features, all_results,\n",
        "                  n_best_size, max_answer_length,\n",
        "                  do_lower_case, output_prediction_file,\n",
        "                  output_nbest_file, output_null_log_odds_file)\n",
        "\n",
        "tf.logging.info(\"Inference Results:\")\n",
        "\n",
        "# Here we show only the prediction results, nbest prediction is also available in the output directory\n",
        "results = \"\"\n",
        "with open(output_prediction_file, 'r') as json_file:\n",
        "    data = json.load(json_file)\n",
        "    for question in eval_examples:\n",
        "        results += \"<tr><td>{}</td><td>{}</td><td>{}</td></tr>\".format(question.qas_id, question.question_text, data[question.qas_id])\n",
        "\n",
        "\n",
        "from IPython.display import display, HTML\n",
        "display(HTML(\"<table><tr><th>Id</th><th>Question</th><th>Answer</th></tr>{}</table>\".format(results)))        "
      ],
      "execution_count": 18,
      "outputs": [
        {
          "output_type": "stream",
          "text": [
            "INFO:tensorflow:***** Running predictions *****\n",
            "INFO:tensorflow:  Num orig examples = 8\n",
            "INFO:tensorflow:  Num split examples = 8\n",
            "INFO:tensorflow:  Batch size = 1\n",
            "WARNING:tensorflow:From /usr/local/lib/python3.6/dist-packages/tensorflow/python/ops/resource_variable_ops.py:1666: calling BaseResourceVariable.__init__ (from tensorflow.python.ops.resource_variable_ops) with constraint is deprecated and will be removed in a future version.\n",
            "Instructions for updating:\n",
            "If using Keras pass *_constraint arguments to layers.\n"
          ],
          "name": "stdout"
        },
        {
          "output_type": "error",
          "ename": "AttributeError",
          "evalue": "ignored",
          "traceback": [
            "\u001b[0;31m---------------------------------------------------------------------------\u001b[0m",
            "\u001b[0;31mAttributeError\u001b[0m                            Traceback (most recent call last)",
            "\u001b[0;32m<ipython-input-18-816ecc1f4427>\u001b[0m in \u001b[0;36m<module>\u001b[0;34m()\u001b[0m\n\u001b[1;32m     40\u001b[0m \u001b[0meval_start_time\u001b[0m \u001b[0;34m=\u001b[0m \u001b[0mtime\u001b[0m\u001b[0;34m.\u001b[0m\u001b[0mtime\u001b[0m\u001b[0;34m(\u001b[0m\u001b[0;34m)\u001b[0m\u001b[0;34m\u001b[0m\u001b[0;34m\u001b[0m\u001b[0m\n\u001b[1;32m     41\u001b[0m for result in estimator.predict(\n\u001b[0;32m---> 42\u001b[0;31m         predict_input_fn, yield_single_examples=True, hooks=eval_hooks, checkpoint_path=init_checkpoint):\n\u001b[0m\u001b[1;32m     43\u001b[0m     \u001b[0munique_id\u001b[0m \u001b[0;34m=\u001b[0m \u001b[0mint\u001b[0m\u001b[0;34m(\u001b[0m\u001b[0mresult\u001b[0m\u001b[0;34m[\u001b[0m\u001b[0;34m\"unique_ids\"\u001b[0m\u001b[0;34m]\u001b[0m\u001b[0;34m)\u001b[0m\u001b[0;34m\u001b[0m\u001b[0;34m\u001b[0m\u001b[0m\n\u001b[1;32m     44\u001b[0m     \u001b[0mstart_logits\u001b[0m \u001b[0;34m=\u001b[0m \u001b[0;34m[\u001b[0m\u001b[0mfloat\u001b[0m\u001b[0;34m(\u001b[0m\u001b[0mx\u001b[0m\u001b[0;34m)\u001b[0m \u001b[0;32mfor\u001b[0m \u001b[0mx\u001b[0m \u001b[0;32min\u001b[0m \u001b[0mresult\u001b[0m\u001b[0;34m[\u001b[0m\u001b[0;34m\"start_logits\"\u001b[0m\u001b[0;34m]\u001b[0m\u001b[0;34m.\u001b[0m\u001b[0mflat\u001b[0m\u001b[0;34m]\u001b[0m\u001b[0;34m\u001b[0m\u001b[0;34m\u001b[0m\u001b[0m\n",
            "\u001b[0;32m/usr/local/lib/python3.6/dist-packages/tensorflow_estimator/python/estimator/estimator.py\u001b[0m in \u001b[0;36mpredict\u001b[0;34m(self, input_fn, predict_keys, hooks, checkpoint_path, yield_single_examples)\u001b[0m\n\u001b[1;32m    609\u001b[0m         \u001b[0mself\u001b[0m\u001b[0;34m.\u001b[0m\u001b[0m_create_and_assert_global_step\u001b[0m\u001b[0;34m(\u001b[0m\u001b[0mg\u001b[0m\u001b[0;34m)\u001b[0m\u001b[0;34m\u001b[0m\u001b[0;34m\u001b[0m\u001b[0m\n\u001b[1;32m    610\u001b[0m         features, input_hooks = self._get_features_from_input_fn(\n\u001b[0;32m--> 611\u001b[0;31m             input_fn, ModeKeys.PREDICT)\n\u001b[0m\u001b[1;32m    612\u001b[0m         estimator_spec = self._call_model_fn(features, None, ModeKeys.PREDICT,\n\u001b[1;32m    613\u001b[0m                                              self.config)\n",
            "\u001b[0;32m/usr/local/lib/python3.6/dist-packages/tensorflow_estimator/python/estimator/estimator.py\u001b[0m in \u001b[0;36m_get_features_from_input_fn\u001b[0;34m(self, input_fn, mode)\u001b[0m\n\u001b[1;32m   1012\u001b[0m   \u001b[0;32mdef\u001b[0m \u001b[0m_get_features_from_input_fn\u001b[0m\u001b[0;34m(\u001b[0m\u001b[0mself\u001b[0m\u001b[0;34m,\u001b[0m \u001b[0minput_fn\u001b[0m\u001b[0;34m,\u001b[0m \u001b[0mmode\u001b[0m\u001b[0;34m)\u001b[0m\u001b[0;34m:\u001b[0m\u001b[0;34m\u001b[0m\u001b[0;34m\u001b[0m\u001b[0m\n\u001b[1;32m   1013\u001b[0m     \u001b[0;34m\"\"\"Extracts the `features` from return values of `input_fn`.\"\"\"\u001b[0m\u001b[0;34m\u001b[0m\u001b[0;34m\u001b[0m\u001b[0m\n\u001b[0;32m-> 1014\u001b[0;31m     \u001b[0mresult\u001b[0m \u001b[0;34m=\u001b[0m \u001b[0mself\u001b[0m\u001b[0;34m.\u001b[0m\u001b[0m_call_input_fn\u001b[0m\u001b[0;34m(\u001b[0m\u001b[0minput_fn\u001b[0m\u001b[0;34m,\u001b[0m \u001b[0mmode\u001b[0m\u001b[0;34m)\u001b[0m\u001b[0;34m\u001b[0m\u001b[0;34m\u001b[0m\u001b[0m\n\u001b[0m\u001b[1;32m   1015\u001b[0m     \u001b[0mresult\u001b[0m\u001b[0;34m,\u001b[0m \u001b[0m_\u001b[0m\u001b[0;34m,\u001b[0m \u001b[0mhooks\u001b[0m \u001b[0;34m=\u001b[0m \u001b[0mestimator_util\u001b[0m\u001b[0;34m.\u001b[0m\u001b[0mparse_input_fn_result\u001b[0m\u001b[0;34m(\u001b[0m\u001b[0mresult\u001b[0m\u001b[0;34m)\u001b[0m\u001b[0;34m\u001b[0m\u001b[0;34m\u001b[0m\u001b[0m\n\u001b[1;32m   1016\u001b[0m     \u001b[0mself\u001b[0m\u001b[0;34m.\u001b[0m\u001b[0m_validate_features_in_predict_input\u001b[0m\u001b[0;34m(\u001b[0m\u001b[0mresult\u001b[0m\u001b[0;34m)\u001b[0m\u001b[0;34m\u001b[0m\u001b[0;34m\u001b[0m\u001b[0m\n",
            "\u001b[0;32m/usr/local/lib/python3.6/dist-packages/tensorflow_estimator/python/estimator/estimator.py\u001b[0m in \u001b[0;36m_call_input_fn\u001b[0;34m(self, input_fn, mode, input_context)\u001b[0m\n\u001b[1;32m   1135\u001b[0m       \u001b[0mkwargs\u001b[0m\u001b[0;34m[\u001b[0m\u001b[0;34m'input_context'\u001b[0m\u001b[0;34m]\u001b[0m \u001b[0;34m=\u001b[0m \u001b[0minput_context\u001b[0m\u001b[0;34m\u001b[0m\u001b[0;34m\u001b[0m\u001b[0m\n\u001b[1;32m   1136\u001b[0m     \u001b[0;32mwith\u001b[0m \u001b[0mtf\u001b[0m\u001b[0;34m.\u001b[0m\u001b[0mcompat\u001b[0m\u001b[0;34m.\u001b[0m\u001b[0mv1\u001b[0m\u001b[0;34m.\u001b[0m\u001b[0mdevice\u001b[0m\u001b[0;34m(\u001b[0m\u001b[0;34m'/cpu:0'\u001b[0m\u001b[0;34m)\u001b[0m\u001b[0;34m:\u001b[0m\u001b[0;34m\u001b[0m\u001b[0;34m\u001b[0m\u001b[0m\n\u001b[0;32m-> 1137\u001b[0;31m       \u001b[0;32mreturn\u001b[0m \u001b[0minput_fn\u001b[0m\u001b[0;34m(\u001b[0m\u001b[0;34m**\u001b[0m\u001b[0mkwargs\u001b[0m\u001b[0;34m)\u001b[0m\u001b[0;34m\u001b[0m\u001b[0;34m\u001b[0m\u001b[0m\n\u001b[0m\u001b[1;32m   1138\u001b[0m \u001b[0;34m\u001b[0m\u001b[0m\n\u001b[1;32m   1139\u001b[0m   \u001b[0;32mdef\u001b[0m \u001b[0m_call_model_fn\u001b[0m\u001b[0;34m(\u001b[0m\u001b[0mself\u001b[0m\u001b[0;34m,\u001b[0m \u001b[0mfeatures\u001b[0m\u001b[0;34m,\u001b[0m \u001b[0mlabels\u001b[0m\u001b[0;34m,\u001b[0m \u001b[0mmode\u001b[0m\u001b[0;34m,\u001b[0m \u001b[0mconfig\u001b[0m\u001b[0;34m)\u001b[0m\u001b[0;34m:\u001b[0m\u001b[0;34m\u001b[0m\u001b[0;34m\u001b[0m\u001b[0m\n",
            "\u001b[0;32m/content/DeepLearningExamples-master/TensorFlow/LanguageModeling/BERT/run_squad.py\u001b[0m in \u001b[0;36minput_fn\u001b[0;34m()\u001b[0m\n\u001b[1;32m    428\u001b[0m \u001b[0;34m\u001b[0m\u001b[0m\n\u001b[1;32m    429\u001b[0m     d = d.apply(\n\u001b[0;32m--> 430\u001b[0;31m         tf.compat.v1.contrib.data.map_and_batch(\n\u001b[0m\u001b[1;32m    431\u001b[0m             \u001b[0;32mlambda\u001b[0m \u001b[0mrecord\u001b[0m\u001b[0;34m:\u001b[0m \u001b[0m_decode_record\u001b[0m\u001b[0;34m(\u001b[0m\u001b[0mrecord\u001b[0m\u001b[0;34m,\u001b[0m \u001b[0mname_to_features\u001b[0m\u001b[0;34m)\u001b[0m\u001b[0;34m,\u001b[0m\u001b[0;34m\u001b[0m\u001b[0;34m\u001b[0m\u001b[0m\n\u001b[1;32m    432\u001b[0m             \u001b[0mbatch_size\u001b[0m\u001b[0;34m=\u001b[0m\u001b[0mbatch_size\u001b[0m\u001b[0;34m,\u001b[0m\u001b[0;34m\u001b[0m\u001b[0;34m\u001b[0m\u001b[0m\n",
            "\u001b[0;31mAttributeError\u001b[0m: module 'tensorflow._api.v2.compat.v1' has no attribute 'contrib'"
          ]
        }
      ]
    },
    {
      "cell_type": "code",
      "metadata": {
        "id": "yhDbialrcQq2",
        "colab_type": "code",
        "colab": {}
      },
      "source": [
        "!zip -r /content/BERT.zip /content/DeepLearningExamples-master/TensorFlow/LanguageModeling/BERT"
      ],
      "execution_count": null,
      "outputs": []
    },
    {
      "cell_type": "code",
      "metadata": {
        "id": "XtMnXvwVcfNo",
        "colab_type": "code",
        "colab": {}
      },
      "source": [
        "from google.colab import files\n",
        "files.download(\"/content/DeepLearningExamples-master/TensorFlow/LanguageModeling/BERT/utils/create_squad_data.py\")"
      ],
      "execution_count": null,
      "outputs": []
    },
    {
      "cell_type": "markdown",
      "metadata": {
        "colab_type": "text",
        "id": "EMT0sKxHw62L"
      },
      "source": [
        "## 6. What's next"
      ]
    },
    {
      "cell_type": "markdown",
      "metadata": {
        "colab_type": "text",
        "id": "mKBM_UD6w62N"
      },
      "source": [
        "Now that you are familiar with running QA Inference on BERT, using mixed precision, you may want to try\n",
        "your own paragraphs and queries. \n",
        "\n",
        "You may also want to take a look to the notebook __bert_squad_tf_finetuning.ipynb__ on how to run fine-tuning on BERT, available in the same directory."
      ]
    }
  ]
}