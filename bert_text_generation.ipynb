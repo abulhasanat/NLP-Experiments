{
  "nbformat": 4,
  "nbformat_minor": 0,
  "metadata": {
    "colab": {
      "name": "bert-text-generation.ipynb",
      "provenance": [],
      "authorship_tag": "ABX9TyOpFbvdDjCn2nLFbJnc4MgI",
      "include_colab_link": true
    },
    "kernelspec": {
      "name": "python3",
      "display_name": "Python 3"
    },
    "accelerator": "GPU"
  },
  "cells": [
    {
      "cell_type": "markdown",
      "metadata": {
        "id": "view-in-github",
        "colab_type": "text"
      },
      "source": [
        "<a href=\"https://colab.research.google.com/github/abulhasanat/NLP-Experiments/blob/master/bert_text_generation.ipynb\" target=\"_parent\"><img src=\"https://colab.research.google.com/assets/colab-badge.svg\" alt=\"Open In Colab\"/></a>"
      ]
    },
    {
      "cell_type": "markdown",
      "metadata": {
        "id": "7O_8y1BbWUwv",
        "colab_type": "text"
      },
      "source": [
        "# **ShakesBERT**\n",
        "BERT's BertForNextSentencePrediction class gives a score for the likelihood that a sentence (or line) follows a preceding one. We can use this for example to construct a new sonnet from lines of existing Shakespeare sonnets. The new sonnet will have a higher likelihood of making sense than if we merely drew the lines at random. The next sentence prediction therefore acts as a kind of sense discriminator.\n",
        "\n",
        "Sonnet lines are taken from [Poetry DB](http://poetrydb.org/index.html)."
      ]
    },
    {
      "cell_type": "code",
      "metadata": {
        "id": "TGlCRk-ua0WI",
        "colab_type": "code",
        "colab": {
          "base_uri": "https://localhost:8080/",
          "height": 411
        },
        "outputId": "a670efe4-0416-4968-eac2-82a6a414c834"
      },
      "source": [
        "!pip install pytorch_pretrained_bert"
      ],
      "execution_count": 3,
      "outputs": [
        {
          "output_type": "stream",
          "text": [
            "Collecting pytorch_pretrained_bert\n",
            "\u001b[?25l  Downloading https://files.pythonhosted.org/packages/d7/e0/c08d5553b89973d9a240605b9c12404bcf8227590de62bae27acbcfe076b/pytorch_pretrained_bert-0.6.2-py3-none-any.whl (123kB)\n",
            "\r\u001b[K     |██▋                             | 10kB 29.7MB/s eta 0:00:01\r\u001b[K     |█████▎                          | 20kB 5.8MB/s eta 0:00:01\r\u001b[K     |████████                        | 30kB 6.9MB/s eta 0:00:01\r\u001b[K     |██████████▋                     | 40kB 7.5MB/s eta 0:00:01\r\u001b[K     |█████████████▎                  | 51kB 6.8MB/s eta 0:00:01\r\u001b[K     |███████████████▉                | 61kB 7.7MB/s eta 0:00:01\r\u001b[K     |██████████████████▌             | 71kB 7.7MB/s eta 0:00:01\r\u001b[K     |█████████████████████▏          | 81kB 8.6MB/s eta 0:00:01\r\u001b[K     |███████████████████████▉        | 92kB 8.1MB/s eta 0:00:01\r\u001b[K     |██████████████████████████▌     | 102kB 8.2MB/s eta 0:00:01\r\u001b[K     |█████████████████████████████▏  | 112kB 8.2MB/s eta 0:00:01\r\u001b[K     |███████████████████████████████▊| 122kB 8.2MB/s eta 0:00:01\r\u001b[K     |████████████████████████████████| 133kB 8.2MB/s \n",
            "\u001b[?25hRequirement already satisfied: boto3 in /usr/local/lib/python3.6/dist-packages (from pytorch_pretrained_bert) (1.14.2)\n",
            "Requirement already satisfied: regex in /usr/local/lib/python3.6/dist-packages (from pytorch_pretrained_bert) (2019.12.20)\n",
            "Requirement already satisfied: torch>=0.4.1 in /usr/local/lib/python3.6/dist-packages (from pytorch_pretrained_bert) (1.5.0+cu101)\n",
            "Requirement already satisfied: requests in /usr/local/lib/python3.6/dist-packages (from pytorch_pretrained_bert) (2.23.0)\n",
            "Requirement already satisfied: tqdm in /usr/local/lib/python3.6/dist-packages (from pytorch_pretrained_bert) (4.41.1)\n",
            "Requirement already satisfied: numpy in /usr/local/lib/python3.6/dist-packages (from pytorch_pretrained_bert) (1.18.5)\n",
            "Requirement already satisfied: botocore<1.18.0,>=1.17.2 in /usr/local/lib/python3.6/dist-packages (from boto3->pytorch_pretrained_bert) (1.17.2)\n",
            "Requirement already satisfied: jmespath<1.0.0,>=0.7.1 in /usr/local/lib/python3.6/dist-packages (from boto3->pytorch_pretrained_bert) (0.10.0)\n",
            "Requirement already satisfied: s3transfer<0.4.0,>=0.3.0 in /usr/local/lib/python3.6/dist-packages (from boto3->pytorch_pretrained_bert) (0.3.3)\n",
            "Requirement already satisfied: future in /usr/local/lib/python3.6/dist-packages (from torch>=0.4.1->pytorch_pretrained_bert) (0.16.0)\n",
            "Requirement already satisfied: idna<3,>=2.5 in /usr/local/lib/python3.6/dist-packages (from requests->pytorch_pretrained_bert) (2.9)\n",
            "Requirement already satisfied: urllib3!=1.25.0,!=1.25.1,<1.26,>=1.21.1 in /usr/local/lib/python3.6/dist-packages (from requests->pytorch_pretrained_bert) (1.24.3)\n",
            "Requirement already satisfied: certifi>=2017.4.17 in /usr/local/lib/python3.6/dist-packages (from requests->pytorch_pretrained_bert) (2020.4.5.2)\n",
            "Requirement already satisfied: chardet<4,>=3.0.2 in /usr/local/lib/python3.6/dist-packages (from requests->pytorch_pretrained_bert) (3.0.4)\n",
            "Requirement already satisfied: docutils<0.16,>=0.10 in /usr/local/lib/python3.6/dist-packages (from botocore<1.18.0,>=1.17.2->boto3->pytorch_pretrained_bert) (0.15.2)\n",
            "Requirement already satisfied: python-dateutil<3.0.0,>=2.1 in /usr/local/lib/python3.6/dist-packages (from botocore<1.18.0,>=1.17.2->boto3->pytorch_pretrained_bert) (2.8.1)\n",
            "Requirement already satisfied: six>=1.5 in /usr/local/lib/python3.6/dist-packages (from python-dateutil<3.0.0,>=2.1->botocore<1.18.0,>=1.17.2->boto3->pytorch_pretrained_bert) (1.12.0)\n",
            "Installing collected packages: pytorch-pretrained-bert\n",
            "Successfully installed pytorch-pretrained-bert-0.6.2\n"
          ],
          "name": "stdout"
        }
      ]
    },
    {
      "cell_type": "code",
      "metadata": {
        "id": "0OAfw_FWWMMm",
        "colab_type": "code",
        "colab": {}
      },
      "source": [
        "import torch\n",
        "from pytorch_pretrained_bert import BertTokenizer, BertForNextSentencePrediction"
      ],
      "execution_count": 4,
      "outputs": []
    },
    {
      "cell_type": "code",
      "metadata": {
        "id": "ERDfoV2aakLr",
        "colab_type": "code",
        "colab": {
          "base_uri": "https://localhost:8080/",
          "height": 34
        },
        "outputId": "b5531e12-1925-42ae-859e-729b12457bd9"
      },
      "source": [
        "tokeniser = BertTokenizer.from_pretrained('bert-base-uncased')"
      ],
      "execution_count": 5,
      "outputs": [
        {
          "output_type": "stream",
          "text": [
            "100%|██████████| 231508/231508 [00:00<00:00, 616478.67B/s]\n"
          ],
          "name": "stderr"
        }
      ]
    },
    {
      "cell_type": "code",
      "metadata": {
        "id": "nR7jRTa6anPF",
        "colab_type": "code",
        "colab": {
          "base_uri": "https://localhost:8080/",
          "height": 34
        },
        "outputId": "03294844-5580-47ac-c465-39769d521f63"
      },
      "source": [
        "\n",
        "model = BertForNextSentencePrediction.from_pretrained('bert-base-uncased')"
      ],
      "execution_count": 6,
      "outputs": [
        {
          "output_type": "stream",
          "text": [
            "100%|██████████| 407873900/407873900 [00:13<00:00, 29276827.69B/s]\n"
          ],
          "name": "stderr"
        }
      ]
    },
    {
      "cell_type": "code",
      "metadata": {
        "id": "p_EIUt5VbA4c",
        "colab_type": "code",
        "colab": {
          "base_uri": "https://localhost:8080/",
          "height": 255
        },
        "outputId": "862e7d84-cee8-4402-fb21-8237132d1bcd"
      },
      "source": [
        "import urllib\n",
        "import json\n",
        "from random import *\n",
        "\n",
        "url = 'http://poetrydb.org/author,linecount/Shakespeare;14/lines'\n",
        "with urllib.request.urlopen(url) as response:\n",
        "    data = json.load(response)   \n",
        "\n",
        "    \n",
        "poem_number = randint(0, len(data)-1)\n",
        "previous_line = data[poem_number]['lines'][0]\n",
        "print(previous_line.strip())\n",
        "\n",
        "next_line_prediction = 0\n",
        "threshold = 3\n",
        "poems_picked = [poem_number]\n",
        "\n",
        "for line_number in range(1, 14):\n",
        "    next_line_prediction = 0\n",
        "    while(line_number == len(poems_picked)):\n",
        "        poem_number = randint(0, len(data)-1)\n",
        "        line_to_check = data[poem_number]['lines'][line_number]\n",
        "        \n",
        "        len_line_1 = len(tokeniser.tokenize(previous_line))\n",
        "        len_line_2 = len(tokeniser.tokenize(line_to_check))\n",
        "\n",
        "        text = previous_line + ' ' + line_to_check\n",
        "        tokenized_text = tokeniser.tokenize(text)\n",
        "\n",
        "        indexed_tokens = tokeniser.convert_tokens_to_ids(tokenized_text)\n",
        "        segments_ids = ([0] * len_line_1) + ([1] * len_line_2)\n",
        "        tokens_tensor = torch.tensor([indexed_tokens])\n",
        "        segments_tensors = torch.tensor([segments_ids])\n",
        "        \n",
        "        predictions = model(tokens_tensor, segments_tensors)\n",
        "        \n",
        "        next_line_prediction = predictions[0,0].item()\n",
        "        # No poem should be taken a line from more than once\n",
        "        if poem_number not in poems_picked and next_line_prediction > threshold:\n",
        "            poems_picked = poems_picked + [poem_number]\n",
        "\n",
        "    print(line_to_check.strip())\n",
        "    previous_line = line_to_check"
      ],
      "execution_count": 7,
      "outputs": [
        {
          "output_type": "stream",
          "text": [
            "That god forbid, that made me first your slave,\n",
            "That thereby beauty's rose might never die,\n",
            "That love is merchandiz'd, whose rich esteeming,\n",
            "And darkly bright, are bright in dark directed.\n",
            "And each, though enemies to either's reign,\n",
            "For thou art covetous, and he is kind;\n",
            "For compound sweet; forgoing simple savour,\n",
            "Was, sleeping, by a virgin hand disarm'd.\n",
            "Love's not Time's fool, though rosy lips and cheeks\n",
            "Mine eyes have drawn thy shape, and thine for me\n",
            "But, like a sad slave, stay and think of nought\n",
            "As tender nurse her babe from faring ill.\n",
            "Yet so they mourn becoming of their woe,\n",
            "Which, used, lives th' executor to be.\n"
          ],
          "name": "stdout"
        }
      ]
    },
    {
      "cell_type": "code",
      "metadata": {
        "id": "Fq-mkY6Ma94G",
        "colab_type": "code",
        "colab": {
          "base_uri": "https://localhost:8080/",
          "height": 34
        },
        "outputId": "044897e5-43a1-4af3-b088-1f9022f1155b"
      },
      "source": [
        "poem_number"
      ],
      "execution_count": 9,
      "outputs": [
        {
          "output_type": "execute_result",
          "data": {
            "text/plain": [
              "3"
            ]
          },
          "metadata": {
            "tags": []
          },
          "execution_count": 9
        }
      ]
    },
    {
      "cell_type": "code",
      "metadata": {
        "id": "5fJcAMX4apgl",
        "colab_type": "code",
        "colab": {
          "base_uri": "https://localhost:8080/",
          "height": 34
        },
        "outputId": "3e85b6b2-609b-4e54-8ad3-b9c45552de55"
      },
      "source": [
        "data[poem_number]['lines'][0].strip()"
      ],
      "execution_count": 13,
      "outputs": [
        {
          "output_type": "execute_result",
          "data": {
            "text/plain": [
              "'Unthrifty loveliness, why dost thou spend'"
            ]
          },
          "metadata": {
            "tags": []
          },
          "execution_count": 13
        }
      ]
    }
  ]
}